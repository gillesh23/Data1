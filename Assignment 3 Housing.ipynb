{
 "cells": [
  {
   "cell_type": "code",
   "execution_count": 1,
   "id": "48c49e2f",
   "metadata": {},
   "outputs": [],
   "source": [
    "#import libraries\n",
    "import pandas as pd\n",
    "import os.path\n",
    "import matplotlib.pyplot as plt\n",
    "from geopy.geocoders import Nominatim\n",
    "import plotly.express as px"
   ]
  },
  {
   "cell_type": "markdown",
   "id": "ec8a8bad",
   "metadata": {},
   "source": [
    "Question 1: What Amsterdam will receive from tourist tax if the event lasts a week and you will\n",
    "have 30.000 visitors?"
   ]
  },
  {
   "cell_type": "code",
   "execution_count": 2,
   "id": "3c746526",
   "metadata": {},
   "outputs": [
    {
     "name": "stdout",
     "output_type": "stream",
     "text": [
      "total tax income w/ hotel stay: 1048740.0\n",
      "total tax income w/ Airbnb stay: 1402798.1100000003\n"
     ]
    }
   ],
   "source": [
    "#30.000 visitors times 7 days and 3 euros per person, per day.\n",
    "x = 30.000 * 7 * 3\n",
    "#also 7 percent of rental price per night for hotels, the average price of a hotel is 142,60 euros for double room\n",
    "y = 0.07 * 142.60  * 7 * 15.000\n",
    "#10 percent of rental price per night for AirBNB, 133,50 is the average price for a private room in Amsterdam through AirBNB\n",
    "z = 0.10 * 133.50  * 7 * 15.000\n",
    "print('total tax income w/ hotel stay:', x+y *1000)\n",
    "print('total tax income w/ Airbnb stay:', y+z *1000)"
   ]
  },
  {
   "cell_type": "markdown",
   "id": "cdcea498",
   "metadata": {},
   "source": [
    "Question 2: Plot the amount of AirBnB locations per neighbourhood"
   ]
  },
  {
   "cell_type": "code",
   "execution_count": 15,
   "id": "3cb0fd43",
   "metadata": {},
   "outputs": [
    {
     "name": "stdout",
     "output_type": "stream",
     "text": [
      "De Baarsjes - Oud-West                    1382\n",
      "Centrum-West                              1006\n",
      "De Pijp - Rivierenbuurt                    935\n",
      "Centrum-Oost                               793\n",
      "Zuid                                       599\n",
      "Westerpark                                 584\n",
      "Oud-Oost                                   506\n",
      "Bos en Lommer                              424\n",
      "Oud-Noord                                  402\n",
      "Oostelijk Havengebied - Indische Buurt     320\n",
      "Watergraafsmeer                            262\n",
      "Noord-West                                 218\n",
      "IJburg - Zeeburgereiland                   183\n",
      "Slotervaart                                164\n",
      "Noord-Oost                                 137\n",
      "Geuzenveld - Slotermeer                    116\n",
      "Buitenveldert - Zuidas                     100\n",
      "De Aker - Nieuw Sloten                      74\n",
      "Gaasperdam - Driemond                       51\n",
      "Bijlmer-Centrum                             47\n",
      "Osdorp                                      44\n",
      "Bijlmer-Oost                                39\n",
      "Name: neighbourhood, dtype: int64\n"
     ]
    },
    {
     "data": {
      "text/html": [
       "<div>\n",
       "<style scoped>\n",
       "    .dataframe tbody tr th:only-of-type {\n",
       "        vertical-align: middle;\n",
       "    }\n",
       "\n",
       "    .dataframe tbody tr th {\n",
       "        vertical-align: top;\n",
       "    }\n",
       "\n",
       "    .dataframe thead th {\n",
       "        text-align: right;\n",
       "    }\n",
       "</style>\n",
       "<table border=\"1\" class=\"dataframe\">\n",
       "  <thead>\n",
       "    <tr style=\"text-align: right;\">\n",
       "      <th></th>\n",
       "      <th>id</th>\n",
       "      <th>name</th>\n",
       "      <th>host_id</th>\n",
       "      <th>host_name</th>\n",
       "      <th>neighbourhood_group</th>\n",
       "      <th>neighbourhood</th>\n",
       "      <th>latitude</th>\n",
       "      <th>longitude</th>\n",
       "      <th>room_type</th>\n",
       "      <th>price</th>\n",
       "      <th>minimum_nights</th>\n",
       "      <th>number_of_reviews</th>\n",
       "      <th>last_review</th>\n",
       "      <th>reviews_per_month</th>\n",
       "      <th>calculated_host_listings_count</th>\n",
       "      <th>availability_365</th>\n",
       "      <th>number_of_reviews_ltm</th>\n",
       "      <th>license</th>\n",
       "    </tr>\n",
       "  </thead>\n",
       "  <tbody>\n",
       "    <tr>\n",
       "      <th>0</th>\n",
       "      <td>761411</td>\n",
       "      <td>Condo in Amsterdam · ★4.74 · 1 bedroom · 1 bed...</td>\n",
       "      <td>4013546</td>\n",
       "      <td>Xsjong</td>\n",
       "      <td>NaN</td>\n",
       "      <td>Noord-Oost</td>\n",
       "      <td>52.40164</td>\n",
       "      <td>4.95106</td>\n",
       "      <td>Private room</td>\n",
       "      <td>61</td>\n",
       "      <td>3</td>\n",
       "      <td>303</td>\n",
       "      <td>2023-08-19</td>\n",
       "      <td>2.30</td>\n",
       "      <td>2</td>\n",
       "      <td>272</td>\n",
       "      <td>26</td>\n",
       "      <td>0363 D4AD DCF3 E72A 56A2</td>\n",
       "    </tr>\n",
       "    <tr>\n",
       "      <th>1</th>\n",
       "      <td>768274</td>\n",
       "      <td>Rental unit in Amsterdam · ★4.83 · 1 bedroom ·...</td>\n",
       "      <td>3678216</td>\n",
       "      <td>J &amp; R</td>\n",
       "      <td>NaN</td>\n",
       "      <td>Westerpark</td>\n",
       "      <td>52.38855</td>\n",
       "      <td>4.88521</td>\n",
       "      <td>Entire home/apt</td>\n",
       "      <td>327</td>\n",
       "      <td>3</td>\n",
       "      <td>78</td>\n",
       "      <td>2023-08-16</td>\n",
       "      <td>0.64</td>\n",
       "      <td>1</td>\n",
       "      <td>16</td>\n",
       "      <td>6</td>\n",
       "      <td>0363 7A50 18E7 51D1 B7F9</td>\n",
       "    </tr>\n",
       "    <tr>\n",
       "      <th>2</th>\n",
       "      <td>768737</td>\n",
       "      <td>Boat in Amsterdam · ★4.82 · 1 bedroom · 1 bed ...</td>\n",
       "      <td>3877342</td>\n",
       "      <td>Nicole</td>\n",
       "      <td>NaN</td>\n",
       "      <td>Westerpark</td>\n",
       "      <td>52.37824</td>\n",
       "      <td>4.86826</td>\n",
       "      <td>Private room</td>\n",
       "      <td>109</td>\n",
       "      <td>2</td>\n",
       "      <td>341</td>\n",
       "      <td>2023-08-24</td>\n",
       "      <td>2.73</td>\n",
       "      <td>3</td>\n",
       "      <td>29</td>\n",
       "      <td>43</td>\n",
       "      <td>036396BE30827DDB9575</td>\n",
       "    </tr>\n",
       "    <tr>\n",
       "      <th>3</th>\n",
       "      <td>771217</td>\n",
       "      <td>Houseboat in Amsterdam · ★5.0 · 3 bedrooms · 3...</td>\n",
       "      <td>4068486</td>\n",
       "      <td>Danielle</td>\n",
       "      <td>NaN</td>\n",
       "      <td>Zuid</td>\n",
       "      <td>52.34091</td>\n",
       "      <td>4.84802</td>\n",
       "      <td>Entire home/apt</td>\n",
       "      <td>290</td>\n",
       "      <td>3</td>\n",
       "      <td>10</td>\n",
       "      <td>2019-01-02</td>\n",
       "      <td>0.11</td>\n",
       "      <td>1</td>\n",
       "      <td>0</td>\n",
       "      <td>0</td>\n",
       "      <td>0363 D807 AD6C 499A F871</td>\n",
       "    </tr>\n",
       "    <tr>\n",
       "      <th>4</th>\n",
       "      <td>771343</td>\n",
       "      <td>Rental unit in Amsterdam · ★4.89 · 1 bedroom ·...</td>\n",
       "      <td>2313061</td>\n",
       "      <td>Marcel</td>\n",
       "      <td>NaN</td>\n",
       "      <td>Centrum-West</td>\n",
       "      <td>52.37641</td>\n",
       "      <td>4.88303</td>\n",
       "      <td>Private room</td>\n",
       "      <td>150</td>\n",
       "      <td>1</td>\n",
       "      <td>699</td>\n",
       "      <td>2023-09-01</td>\n",
       "      <td>6.62</td>\n",
       "      <td>2</td>\n",
       "      <td>196</td>\n",
       "      <td>110</td>\n",
       "      <td>0363 8C61 E9B9 5582 913E</td>\n",
       "    </tr>\n",
       "  </tbody>\n",
       "</table>\n",
       "</div>"
      ],
      "text/plain": [
       "       id                                               name  host_id  \\\n",
       "0  761411  Condo in Amsterdam · ★4.74 · 1 bedroom · 1 bed...  4013546   \n",
       "1  768274  Rental unit in Amsterdam · ★4.83 · 1 bedroom ·...  3678216   \n",
       "2  768737  Boat in Amsterdam · ★4.82 · 1 bedroom · 1 bed ...  3877342   \n",
       "3  771217  Houseboat in Amsterdam · ★5.0 · 3 bedrooms · 3...  4068486   \n",
       "4  771343  Rental unit in Amsterdam · ★4.89 · 1 bedroom ·...  2313061   \n",
       "\n",
       "  host_name neighbourhood_group neighbourhood  latitude longitude  \\\n",
       "0    Xsjong                 NaN    Noord-Oost  52.40164   4.95106   \n",
       "1     J & R                 NaN    Westerpark  52.38855   4.88521   \n",
       "2    Nicole                 NaN    Westerpark  52.37824   4.86826   \n",
       "3  Danielle                 NaN          Zuid  52.34091   4.84802   \n",
       "4    Marcel                 NaN  Centrum-West  52.37641   4.88303   \n",
       "\n",
       "         room_type price minimum_nights number_of_reviews last_review  \\\n",
       "0     Private room    61              3               303  2023-08-19   \n",
       "1  Entire home/apt   327              3                78  2023-08-16   \n",
       "2     Private room   109              2               341  2023-08-24   \n",
       "3  Entire home/apt   290              3                10  2019-01-02   \n",
       "4     Private room   150              1               699  2023-09-01   \n",
       "\n",
       "  reviews_per_month calculated_host_listings_count availability_365  \\\n",
       "0              2.30                              2              272   \n",
       "1              0.64                              1               16   \n",
       "2              2.73                              3               29   \n",
       "3              0.11                              1                0   \n",
       "4              6.62                              2              196   \n",
       "\n",
       "  number_of_reviews_ltm                   license  \n",
       "0                    26  0363 D4AD DCF3 E72A 56A2  \n",
       "1                     6  0363 7A50 18E7 51D1 B7F9  \n",
       "2                    43      036396BE30827DDB9575  \n",
       "3                     0  0363 D807 AD6C 499A F871  \n",
       "4                   110  0363 8C61 E9B9 5582 913E  "
      ]
     },
     "metadata": {},
     "output_type": "display_data"
    },
    {
     "data": {
      "image/png": "[encoded data removed]",
      "text/plain": [
       "<Figure size 640x480 with 1 Axes>"
      ]
     },
     "metadata": {},
     "output_type": "display_data"
    }
   ],
   "source": [
    "data = pd.read_csv(\"listings.csv\", dtype=str, delimiter=',', header=0, index_col=None)\n",
    "\n",
    "nh = data[\"neighbourhood\"]\n",
    "\n",
    "\n",
    "counts = nh.value_counts()\n",
    "print(counts)\n",
    "display(data.head())\n",
    "plt.bar(counts.index, counts)\n",
    "\n",
    "\n",
    "\n",
    "plt.xlabel('Location')\n",
    "plt.ylabel('amount of AirBnB')\n",
    "plt.title('Amount of airBnB locations per neighborhood')\n",
    "plt.xticks(rotation=90) \n",
    "plt.show()"
   ]
  },
  {
   "cell_type": "markdown",
   "id": "4bcd97c6",
   "metadata": {},
   "source": [
    "Question 3: Which street in Amsterdam has the most AirBnB apartments?"
   ]
  },
  {
   "cell_type": "code",
   "execution_count": 5,
   "id": "06501f7c",
   "metadata": {},
   "outputs": [
    {
     "data": {
      "text/html": [
       "<div>\n",
       "<style scoped>\n",
       "    .dataframe tbody tr th:only-of-type {\n",
       "        vertical-align: middle;\n",
       "    }\n",
       "\n",
       "    .dataframe tbody tr th {\n",
       "        vertical-align: top;\n",
       "    }\n",
       "\n",
       "    .dataframe thead th {\n",
       "        text-align: right;\n",
       "    }\n",
       "</style>\n",
       "<table border=\"1\" class=\"dataframe\">\n",
       "  <thead>\n",
       "    <tr style=\"text-align: right;\">\n",
       "      <th></th>\n",
       "      <th>id</th>\n",
       "      <th>latitude</th>\n",
       "      <th>longitude</th>\n",
       "      <th>street</th>\n",
       "    </tr>\n",
       "  </thead>\n",
       "  <tbody>\n",
       "    <tr>\n",
       "      <th>0</th>\n",
       "      <td>761411</td>\n",
       "      <td>52.40164</td>\n",
       "      <td>4.95106</td>\n",
       "      <td>Jisperveldstraat</td>\n",
       "    </tr>\n",
       "    <tr>\n",
       "      <th>1</th>\n",
       "      <td>768274</td>\n",
       "      <td>52.38855</td>\n",
       "      <td>4.88521</td>\n",
       "      <td>Zoutkeetsplein</td>\n",
       "    </tr>\n",
       "    <tr>\n",
       "      <th>2</th>\n",
       "      <td>768737</td>\n",
       "      <td>52.37824</td>\n",
       "      <td>4.86826</td>\n",
       "      <td>Centrale Groothandelsmarkt</td>\n",
       "    </tr>\n",
       "    <tr>\n",
       "      <th>3</th>\n",
       "      <td>771217</td>\n",
       "      <td>52.34091</td>\n",
       "      <td>4.84802</td>\n",
       "      <td>IJsbaanpad</td>\n",
       "    </tr>\n",
       "    <tr>\n",
       "      <th>4</th>\n",
       "      <td>771343</td>\n",
       "      <td>52.37641</td>\n",
       "      <td>4.88303</td>\n",
       "      <td>Derde Egelantiersdwarsstraat</td>\n",
       "    </tr>\n",
       "  </tbody>\n",
       "</table>\n",
       "</div>"
      ],
      "text/plain": [
       "       id  latitude longitude                        street\n",
       "0  761411  52.40164   4.95106              Jisperveldstraat\n",
       "1  768274  52.38855   4.88521                Zoutkeetsplein\n",
       "2  768737  52.37824   4.86826    Centrale Groothandelsmarkt\n",
       "3  771217  52.34091   4.84802                    IJsbaanpad\n",
       "4  771343  52.37641   4.88303  Derde Egelantiersdwarsstraat"
      ]
     },
     "execution_count": 5,
     "metadata": {},
     "output_type": "execute_result"
    }
   ],
   "source": [
    "geolocator = Nominatim(user_agent= 'tryinams')\n",
    "bnb_new = data[['id', 'latitude','longitude']]\n",
    "bnb_new.insert(3,'street','')\n",
    "\n",
    "# find out the location of per airbnb according to the coordinates\n",
    "for i in range(len(bnb_new)):\n",
    "    latitude, longitude = bnb_new.iloc[i]['latitude'], bnb_new.iloc[i]['longitude']\n",
    "    location = geolocator.reverse(f\"{latitude},{longitude}\", timeout=None)\n",
    "    try:\n",
    "        street = location.raw['address']['road']\n",
    "        bnb_new.loc[i, 'street'] = street\n",
    "    except:\n",
    "        pass\n",
    "\n",
    "bnb_new.head()"
   ]
  },
  {
   "cell_type": "code",
   "execution_count": 8,
   "id": "3ea8532b",
   "metadata": {},
   "outputs": [
    {
     "data": {
      "text/plain": [
       "Nassaukade                      141\n",
       "Derde Egelantiersdwarsstraat    130\n",
       "Hoofdweg                         70\n",
       "Prinsengracht                    61\n",
       "Keizersgracht                    58\n",
       "Name: street, dtype: int64"
      ]
     },
     "execution_count": 8,
     "metadata": {},
     "output_type": "execute_result"
    }
   ],
   "source": [
    "#find out the street with most airbnb apartment\n",
    "street_top5 = bnb_new['street'].value_counts().sort_values(ascending=False).head(5)\n",
    "street_top5"
   ]
  },
  {
   "cell_type": "markdown",
   "id": "4465415e",
   "metadata": {},
   "source": [
    "Question 4:Try to cross reference the data from the AirBnB dataset with the BBGA. Can you figure\n",
    "out if all apartments of AirBnB are designated as housing? Which number of\n",
    "apartments are not rented out all the time but are also used as normal housing?"
   ]
  },
  {
   "cell_type": "markdown",
   "id": "38fb6031",
   "metadata": {},
   "source": [
    "-"
   ]
  },
  {
   "cell_type": "markdown",
   "id": "702102c7",
   "metadata": {},
   "source": [
    "Question 5: How many hotel rooms should be built if Amsterdam wants to accommodate the same\n",
    "number of tourists?"
   ]
  },
  {
   "cell_type": "code",
   "execution_count": 60,
   "id": "f8d13083",
   "metadata": {},
   "outputs": [
    {
     "name": "stdout",
     "output_type": "stream",
     "text": [
      "the total number of beds is: 14713\n",
      "average beds per hotelroom 2.205642973412914\n",
      "\n",
      "Hotel rooms needed for the same amount of tourists: 6670\n"
     ]
    }
   ],
   "source": [
    "#split data from column into multiple columns to extract number of beds\n",
    "find_beds = data['name'].str.split('·', expand=True)\n",
    "find_beds.columns = ['type', 'stars', 'bedrooms', 'num_beds', 'baths']\n",
    "#calculate number of beds from new column\n",
    "num = find_beds['num_beds'].str.extract('([\\d.]+)').astype(float)\n",
    "total_beds = num[0].sum()\n",
    "print('the total number of beds is:', int(total_beds))\n",
    "#36860 hotelroom with 81300 beds\n",
    "average_beds = 81300/36860\n",
    "print('average beds per hotelroom', average_beds)\n",
    ";\n",
    "#Hotel rooms needed\n",
    "hot_rooms = total_beds/average_beds\n",
    "print()\n",
    "print('Hotel rooms needed for the same amount of tourists:', int(hot_rooms))"
   ]
  },
  {
   "cell_type": "markdown",
   "id": "447b195b",
   "metadata": {},
   "source": [
    "Question 6: How many different licenses are issued?"
   ]
  },
  {
   "cell_type": "code",
   "execution_count": 61,
   "id": "e5c3eca1",
   "metadata": {},
   "outputs": [
    {
     "name": "stdout",
     "output_type": "stream",
     "text": [
      "7288\n"
     ]
    }
   ],
   "source": [
    "print(data['license'].nunique())"
   ]
  },
  {
   "cell_type": "code",
   "execution_count": null,
   "id": "dc73f2c0",
   "metadata": {},
   "outputs": [],
   "source": []
  }
 ],
 "metadata": {
  "kernelspec": {
   "display_name": "Python 3 (ipykernel)",
   "language": "python",
   "name": "python3"
  },
  "language_info": {
   "codemirror_mode": {
    "name": "ipython",
    "version": 3
   },
   "file_extension": ".py",
   "mimetype": "text/x-python",
   "name": "python",
   "nbconvert_exporter": "python",
   "pygments_lexer": "ipython3",
   "version": "3.11.4"
  }
 },
 "nbformat": 4,
 "nbformat_minor": 5
}

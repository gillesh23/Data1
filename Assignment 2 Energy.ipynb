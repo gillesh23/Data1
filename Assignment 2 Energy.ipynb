{
 "cells": [
  {
   "cell_type": "markdown",
   "metadata": {},
   "source": [
    "# Question 1\n",
    "\n",
    "How many of the canal boats currently in use are diesel/fossil fuel driven and how many boats are electrical driven?  \n",
    "\n",
    "In 2020 there were 550 canal boats in Amsterdam, owned by multiple companies. According to Reuters (2020), 75% of these boats (412 boats) are electrical driven. We suppose that the rest of the boats is fossil fuel driven. "
   ]
  },
  {
   "cell_type": "markdown",
   "metadata": {},
   "source": [
    "# Question 2\n",
    "\n",
    "Are there peak times for the canal boats? \n",
    "\n",
    "There are certain peak times of the canal boats in Amsterdam (Grachtenmonitor, 2022). In the graph below, the average amount of boats per hour on a day is visualized. \n",
    "\n",
    "![Alt text](image.png)\n",
    "\n",
    "\n",
    "\n",
    "In the graph below, the weekly rhytm of canal boats in Amsterdam can be seen.\n",
    "\n",
    "![Alt text](image-1.png)\n",
    "\n",
    "\n",
    "In the table below, the passages per hour of the day on certain locations in Amsterdam can be seen. It is clear that there are some very busy spots at certain times.\n",
    "\n",
    "![Alt text](image-2.png)"
   ]
  },
  {
   "cell_type": "markdown",
   "metadata": {},
   "source": [
    "# Question 3. \n",
    "Try to compare the energy use of the canal boats to some other activity in the city. \n",
    "Use canal boats more or less energy in relation to their carbon footprint compared to these other activities?\n",
    "\n",
    "Overall, both energy use and CO2 emissions of the canal boats is higher both per individual boat compared to an individual eletric bus as well as the totals, however there are only 44 electric busses where as there are 412 electric canal boats and 138 diesel ones."
   ]
  },
  {
   "cell_type": "markdown",
   "metadata": {},
   "source": [
    "# Answer to the question 3"
   ]
  },
  {
   "cell_type": "code",
   "execution_count": 9,
   "metadata": {},
   "outputs": [
    {
     "name": "stdout",
     "output_type": "stream",
     "text": [
      "CO2 emission for one boat on wind energy for one day 7350.0 g CO2\n",
      "CO2 emission for all boats on wind energy for one day 3028200.0 g CO2\n",
      "CO2 emission for one boat on solar energy for one day 7525.0 g CO2\n",
      "CO2 emission for all boats on solar energy for one day 3100300.0 g CO2\n"
     ]
    }
   ],
   "source": [
    "# Source: https://www.installatiejournaal.nl/10946/rondvaartboten-ombouwen-van-diesel-naar-elektrisch\n",
    "# Mentions that rondvaartboten need to be charged with 350kWh, if they are only charged at night. \n",
    "\n",
    "Charge_battery_overnight_in_kWh = 350\n",
    "\n",
    "Amount_of_boats_in_Amsterdam = 412\n",
    "\n",
    "# Source:  https://decorrespondent.nl/4256/factcheck-windmolens-kosten-meer-energie-dan-ze-opleveren-en-helpen-het-klimaat-niet/c2faef7a-df3a-0150-1a71-204f4ea80f44#:~:text=Daaruit%20blijkt%20dat%20de%20gemiddelde,gemiddeld%20900%20gram%20per%20kWh.\n",
    "# Mentions: “Uit de vijftig schattingen uit twintig studies die in het IPCC-onderzoek besproken worden, komt de gemiddelde waarde tussen de 8 en de 20 g CO2-equivalent per kWh uit. De andere grote overzichtsstudie die we hebben bekeken, houdt het op een gemiddelde van 34.1 g CO2-equivalent per kWh.”\n",
    "\n",
    "# Meaning that per kWh, between 8 grams and 34 grams of CO2 is emitted for windmills. So the average that would be\n",
    "Emission_wind_per_kWh = (34+8)/2\n",
    "\n",
    "#So per boat, that is charged overnight with 350 kWh, the emission for one day for sailing on wind electricity would be: \n",
    "\n",
    "Emission_total_wind_one_boat_per_day = Emission_wind_per_kWh * 350\n",
    "\n",
    "print(\"CO2 emission for one boat on wind energy for one day\", Emission_total_wind_one_boat_per_day, \"g CO2\")\n",
    "\n",
    "Emission_total_of_all_boats_on_wind_energy_for_one_day = Emission_total_wind_one_boat_per_day * Amount_of_boats_in_Amsterdam\n",
    "\n",
    "print(\"CO2 emission for all boats on wind energy for one day\", Emission_total_of_all_boats_on_wind_energy_for_one_day, \"g CO2\")\n",
    "\n",
    "# Source: https://www.wattisduurzaam.nl/35498/energie-opwekken/zonne-energie/europese-zonnepanelen-nog-iets-beter-voor-klimaat-dan-chinese/#:~:text=De%20wetenschappers%20aan%20het%20Duitse,n%20800%20gram%20CO2%20uit\n",
    "#Mentions: ”De wetenschappers aan het Duitse onderzoeksinstituut komen tot een uitstoot van 13 tot 30 gram CO2 voor elke kilowattuur die een zonnepaneel over zijn gebruiksduur levert.” \n",
    "\n",
    "# Meaning that per kWh, between 13 grams and 30 grams of CO2 is emitted for windmills. So the average that would be\n",
    "Emission_solar_per_kWh = (30+13)/2\n",
    "\n",
    "#So per boat, that is charged overnight with 350 kWh, the emission for one day for sailing on solar electricity would be: \n",
    "\n",
    "Emission_total_solar_one_boat_per_day = Emission_solar_per_kWh * 350\n",
    "\n",
    "print(\"CO2 emission for one boat on solar energy for one day\", Emission_total_solar_one_boat_per_day, \"g CO2\") \n",
    "\n",
    "Emission_total_of_all_boats_on_solar_energy_for_one_day = Emission_total_solar_one_boat_per_day * Amount_of_boats_in_Amsterdam\n",
    "\n",
    "print(\"CO2 emission for all boats on solar energy for one day\", Emission_total_of_all_boats_on_solar_energy_for_one_day, \"g CO2\")\n"
   ]
  },
  {
   "cell_type": "markdown",
   "metadata": {},
   "source": [
    "Other activities that come to mind are walking tours, renting a bicycle, or those touristy touring busses. Walking tours would be more carbon emission friendly, but not as appealing. Riding a bicycle has a much lower carbon footprint of course, but would hinder people trying to live their lives as it is on roads instead of being on the water. Electrical touring busses will be compared in the next section.  "
   ]
  },
  {
   "cell_type": "markdown",
   "metadata": {},
   "source": [
    "# Calculations energy use diesel boats and emission dieselboats"
   ]
  },
  {
   "cell_type": "code",
   "execution_count": 2,
   "metadata": {},
   "outputs": [
    {
     "name": "stdout",
     "output_type": "stream",
     "text": [
      "total litres of diesel per year 14600 L\n",
      "Energy use diesel boats 102200 kWh\n",
      "5250569 kg CO2\n"
     ]
    }
   ],
   "source": [
    "#Engine_type = Diesel\n",
    "\n",
    "Average_litres_per_hour = 4\n",
    "\n",
    "hours_in_use_per_day = 10 \n",
    "\n",
    "total_litres_day = Average_litres_per_hour * hours_in_use_per_day\n",
    "\n",
    "total_litres_year = total_litres_day * 365\n",
    "\n",
    "print(\"total litres of diesel per year\", total_litres_year,\"L\")\n",
    "\n",
    "#Dieselbus gemeten volgens co2emissiefactoren.nl Nemen we evenwel de CO2 emissie zoals berekend door co2emissiefactoren.nl, \n",
    "# dan komen we op 3.230 gram CO2 uitstoot per liter diesel. De bus rijdt 3,5 km op één liter en dus kom je dan op een uitstoot van 923 gram CO2 per km. \n",
    "# In dit geval nemen we de 7 kWh per liter voor de gehele productieketen zoals berekend door Prof. Burkert van Springer niet mee.\n",
    "\n",
    "Energy_per_litre_diesel_in_kWh = 7 \n",
    "\n",
    "Energy_use_dieselboats = total_litres_year * Energy_per_litre_diesel_in_kWh\n",
    "\n",
    "print(\"Energy use diesel boats\", Energy_use_dieselboats, \"kWh\")\n",
    "\n",
    "Energy_use_per_year_kWh = 20148000\n",
    "\n",
    "#Dieselbus gemeten volgens co2emissiefactoren.nl Nemen we evenwel de CO2 emissie zoals berekend door co2emissiefactoren.nl, \n",
    "# dan komen we op 3.230 gram CO2 uitstoot per liter diesel. De bus rijdt 3,5 km op één liter en dus kom je dan op een uitstoot van 923 gram CO2 per km. \n",
    "# In dit geval nemen we de 7 kWh per liter voor de gehele productieketen zoals berekend door Prof. Burkert van Springer niet mee.\n",
    "\n",
    "#Uitstoot per kilometer voor een Dieselbus is volgens burkert 1856 gram oftewel 1.856 kg\n",
    "\n",
    "#Een bus rijdt 1 kilometer op 3.5 liter diesel\n",
    " \n",
    "Emission_CO2_per_litre = 1.856 / 3.5\n",
    "\n",
    "# Emission_dieselbus_per_year = total\n",
    "\n",
    "\n",
    "\n",
    "Footprint_per_year_kg_CO2 = 5250569\n",
    "\n",
    "print(Footprint_per_year_kg_CO2, \"kg CO2\")"
   ]
  },
  {
   "cell_type": "markdown",
   "metadata": {},
   "source": [
    "# Calculations electrical busses"
   ]
  },
  {
   "cell_type": "code",
   "execution_count": 10,
   "metadata": {},
   "outputs": [
    {
     "name": "stdout",
     "output_type": "stream",
     "text": [
      "Solar powered bus emits 7525.0 grams of CO2 per bus per day\n",
      "Wind powered bus emits 7350.0 grams of CO2 per bus per day\n"
     ]
    }
   ],
   "source": [
    "\n",
    "# Data for electrically powered busses\n",
    "\n",
    "# Source: https://www.sustainable-bus.com/news/electric-bus-range-electricity-consumption/\n",
    "\n",
    "# Mentions that e busses of 18 meters use 350 kWh for 200 km\n",
    "\n",
    "# This means they emit the same amount of CO2 \n",
    "\n",
    "Energy_use_of_bus_per_day_kWh = 350\n",
    "\n",
    "# Meaning that per kWh, between 8 grams and 34 grams of CO2 is emitted for windmills. So the average that would be\n",
    "Emission_wind_per_kWh = (34+8)/2\n",
    "\n",
    "Wind_powered_elecitrical_bus = Energy_use_of_bus_per_day_kWh * Emission_wind_per_kWh\n",
    "\n",
    "print(\"Wind powered bus emits\", Wind_powered_elecitrical_bus, \"grams of CO2 per bus per day\")\n",
    "\n",
    "# Source: https://www.wattisduurzaam.nl/35498/energie-opwekken/zonne-energie/europese-zonnepanelen-nog-iets-beter-voor-klimaat-dan-chinese/#:~:text=De%20wetenschappers%20aan%20het%20Duitse,n%20800%20gram%20CO2%20uit\n",
    "#Mentions: ”De wetenschappers aan het Duitse onderzoeksinstituut komen tot een uitstoot van 13 tot 30 gram CO2 voor elke kilowattuur die een zonnepaneel over zijn gebruiksduur levert.” \n",
    "\n",
    "# Meaning that per kWh, between 13 grams and 30 grams of CO2 is emitted for windmills. So the average that would be\n",
    "Emission_solar_per_kWh = (30+13)/2\n",
    "\n",
    "Solar_powered_elecitrical_bus = Energy_use_of_bus_per_day_kWh * Emission_solar_per_kWh\n",
    "\n",
    "\n",
    "print(\"Solar powered bus emits\", Solar_powered_elecitrical_bus, \"grams of CO2 per bus per day\")"
   ]
  },
  {
   "cell_type": "markdown",
   "metadata": {},
   "source": [
    "This means they emit the same amount of CO2 if the busses would drive a total of 200 km in a single day. Considering that amsterdam is a city, and often the bus has to stop, means that it uses perhaps more energy, as accelerating from zero uses a lot of energy. Furthermore, using busses instead of canal boats also puts pressure on the existing road infrastructure. \n",
    "There is however a variation of busses that all have different potencies and have different radiuses. The experience of traveling by boat is also better, and it is difficult to say how many people can be transported by busses compared to by boats. "
   ]
  },
  {
   "cell_type": "markdown",
   "metadata": {},
   "source": [
    "# Question 4\n",
    "\n",
    "Would you consider it economically feasible?\n",
    "\n",
    "Converting a canal boat with a diesel engine to an electric engine is expensive. For a typical 23m (75ft.) tourist boat, this will cost around 165.000 to 250.000 euros. The conversion process takes about three months. The engines are quieter, cleaner and cheaper to run. Boat companies earn their investment back in about 12 years, according to the Paris Process on Mobility and Climate, a body that is supporting sustainable transport projects. \n",
    "\n",
    "A lot of boat companies chose to keep their old boats and only convert the engine instead of replacing the old boats. This is a more circular solution and keeps the charm of the old canal boats in the city. At ‘Rederij Kooij’ they calculated, that conversion to an electric driven engine is way cheaper than the old diesel enigines. \n",
    "\n"
   ]
  },
  {
   "cell_type": "markdown",
   "metadata": {},
   "source": [
    "# Question 5\n",
    "\n",
    "A minimum of 7 boats is required. These safety crafts should be able to hold at least 3 people. \n",
    "\n",
    "Source: https://wageningenur4.sharepoint.com/:b:/r/sites/course240321-Team16/Gedeelde%20documenten/Team%2016/2.%20Energy/Paralimpicos%20open%20water%20swimming.pdf?csf=1&web=1&e=DrVifs \n"
   ]
  },
  {
   "cell_type": "markdown",
   "metadata": {},
   "source": [
    "# Question 6\n",
    "\n",
    "If only clean energy can be used, how many solar panels or wind turbines are needed?\n",
    "\n",
    "# Windmolens: https://www.windmolenskopen.nl/opbrengst-windmolens/ \n",
    "\n",
    "A windturbine with arms of 7m, at a windspeed of 7m/s generates on a yearly basis 35.127kwh, so on a daily basis this would be 96kwh. If one boat requires 350 kWh for one day, it would not be possible. \n",
    "\n",
    "The biggest current windmill is located in denmark and is able to generate 9MW. Normal big windmills generate around 3MW, leading to a generation of around 7.000.000 kWh per year.  \n",
    "\n",
    "# https://www.sciencedirect.com/science/article/pii/S0360128504000371?casa_token=zos7sJLZSJsAAAAA:vw6oQzc9cfzybcaSCltg79mIaFSE_Y7r_Ggn0aqkuyFCywkRepeTZoxAzCZyw-mIebClH3SsHQ \n",
    "# https://slimster.nl/windturbine/opbrengst-en-vermogen-windmolen/\n",
    "\n"
   ]
  },
  {
   "cell_type": "code",
   "execution_count": 7,
   "metadata": {},
   "outputs": [
    {
     "name": "stdout",
     "output_type": "stream",
     "text": [
      "wind generation of one windturbine 19178.08219178082 kWh\n",
      "Maximum amount of boats per wind turbine is  54.794520547945204\n",
      "Total of 150380.0 solar panels is needed.\n",
      "This amounts to 255646.0 m2 of panels on roofs in Amsterdam\n"
     ]
    }
   ],
   "source": [
    "# big windmills generate a power of 3MW which on a yearly basis are capable of generating around 7.000.000 kWh per year. \n",
    "\n",
    "#On a daily basis this would be \n",
    "Wind_generation_per_day_in_kWh = 7000000 / 365\n",
    "\n",
    "Charge_battery_overnight_in_kWh = 350\n",
    "\n",
    "\n",
    "print(\"wind generation of one windturbine\", Wind_generation_per_day_in_kWh, \"kWh\")\n",
    "\n",
    "Maximum_amoun_of_boats_amsterdam_on_wind = Wind_generation_per_day_in_kWh / Charge_battery_overnight_in_kWh\n",
    "\n",
    "print(\"Maximum amount of boats per wind turbine is \", Maximum_amoun_of_boats_amsterdam_on_wind)\n",
    "\n",
    "\n",
    "# Assuming there are 412 boats, the generation of 8 big windturbines would be necessary. As the energy generated by these boats needs to be used immediately and the boats are charged at night, 16 of these turbines would be necessary. This would not be possible within Amsterdam. \n",
    "\n",
    "\n",
    "#if the boats are all charged at night, Solar power would not be useful. \n",
    "\n",
    "#https://www.zonnepaneelprijzen.nl/hoeveel-zonnepanelen-nodig/\n",
    "\n",
    "# according to this website, a solar panel generates around 350 kWh per year. and has a surface area of around 1.7m2. \n",
    "\n",
    "# For daily charging of 412 boats, 412 boats *350kWh\n",
    "Total_energy_use_boats_per_day = 412 * 350\n",
    "Total_energy_generation_per_panel_per_day = 350 / 365\n",
    "Total_need_for_solar_panels = Total_energy_use_boats_per_day / Total_energy_generation_per_panel_per_day \n",
    "Total_surface_area_needed_for_panels = Total_need_for_solar_panels *1.7\n",
    "\n",
    "print(\"Total of\", Total_need_for_solar_panels, \"solar panels is needed.\" )\n",
    "print(\"This amounts to\", Total_surface_area_needed_for_panels, \"m2 of panels on roofs in Amsterdam\")"
   ]
  },
  {
   "cell_type": "markdown",
   "metadata": {},
   "source": [
    "# Question 7.\t\n",
    "\n",
    "Is it possible to accommodate these facilities within the city? \n",
    "\n",
    "The wind of the size that would be able to charge all of these 412 boats overnight would probably be too big to be placed in Amsterdam, let alone, the 16 of them that would be needed to charge all batteries overnight. There are however smaller ones, but these would not generate sufficient electricity. \n",
    "\n",
    "According to pure-energie.nl, 1 solar panel is expected to generate 352 kwh per year, meaning that they would generate about 0.9 kwh per day. Then 67.2kWh/0.9kWh would be around 70-80. This is very feasible in Amsterdam. \n",
    "\n",
    "255.646m2, 2556 decam2, 26ha 0.26km2 of roofs\n",
    "\n",
    "According to https://openresearch.amsterdam/image/2022/3/18/d6_4_5_policy_brief_city_scale_effects_bg_roofs.pdf, there is at least 6km2 available for blue green roofs alone. These blue green roofs have more limitations that solely solar panels, so the exact number should be higher. 6 km2 alone would already be more than enough to facilitate the electricity for all of these boats as 6km2 > 0.26km2.   \n"
   ]
  },
  {
   "cell_type": "markdown",
   "metadata": {},
   "source": [
    "# Question 7.\tWould their be any effect on the water quality if there are less/no canal boats usingfossil fuels?\n",
    "\n",
    "Electric boats play an important role in maintaining clean water. They eliminate the risk of fuel or oil leaks into the water. “Boat engines are designed to deliver a large amount of power in a relatively small package. As a result, a certain amount of the fuel that enters into a motor is discharged unburned, and ends up in the water.” - Asplund (2000). \n",
    "\n"
   ]
  },
  {
   "cell_type": "markdown",
   "metadata": {},
   "source": []
  },
  {
   "cell_type": "markdown",
   "metadata": {},
   "source": [
    "Additional sources:\n"
   ]
  }
 ],
 "metadata": {
  "kernelspec": {
   "display_name": "Python 3",
   "language": "python",
   "name": "python3"
  },
  "language_info": {
   "codemirror_mode": {
    "name": "ipython",
    "version": 3
   },
   "file_extension": ".py",
   "mimetype": "text/x-python",
   "name": "python",
   "nbconvert_exporter": "python",
   "pygments_lexer": "ipython3",
   "version": "3.11.5"
  }
 },
 "nbformat": 4,
 "nbformat_minor": 2
}
